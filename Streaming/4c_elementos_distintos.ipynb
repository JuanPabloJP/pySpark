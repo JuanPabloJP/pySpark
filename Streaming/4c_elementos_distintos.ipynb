{
  "nbformat": 4,
  "nbformat_minor": 0,
  "metadata": {
    "colab": {
      "name": "4c_elementos_distintos.ipynb",
      "provenance": [],
      "collapsed_sections": [],
      "authorship_tag": "ABX9TyO5B3nUBnYR4E88BP9iEJAt",
      "include_colab_link": true
    },
    "kernelspec": {
      "name": "python3",
      "display_name": "Python 3"
    },
    "language_info": {
      "name": "python"
    }
  },
  "cells": [
    {
      "cell_type": "markdown",
      "metadata": {
        "id": "view-in-github",
        "colab_type": "text"
      },
      "source": [
        "<a href=\"https://colab.research.google.com/github/gibranfp/CursoDatosMasivosI/blob/main/notebooks/4c_elementos_distintos.ipynb\" target=\"_parent\"><img src=\"https://colab.research.google.com/assets/colab-badge.svg\" alt=\"Open In Colab\"/></a>"
      ]
    },
    {
      "cell_type": "markdown",
      "metadata": {
        "id": "uFg6o5crvGxv"
      },
      "source": [
        "\n",
        "# Algoritmo de Flajolet-Martin\n",
        "En esta libreta programaremos el algoritmo Flajolet-Martin  para estimar el número de elementos distintos en un flujo de datos.\n",
        "\n",
        "La idea detrás de este algoritmo es que entre más elementos diferentes haya en el flujo de datos, más valores _hash_ diferentes veremos y es más probable que alguno de estos valores tenga una representación binaria que termine con un mayor número de ceros consecutivos.\n",
        "\n",
        "En particular, sea $tam(x)$ el número de 0s al final de la cadena correspondiente al valor _hash_ del elemento $x$, se inicializa un arreglo de bits de tamaño $L$ con ceros y se pone a 1 el bit de la posición $tam(x)$ para cada $x$ del flujo. Sea $r$ la primera posición del arreglo de bits cuyo valor es cero, un estimador del número de elementos en el flujo de datos es $\\frac{2^{r}}{\\phi}$, donde $\\phi \\approx 0.77351$ es un factor de corrección."
      ]
    },
    {
      "cell_type": "code",
      "metadata": {
        "id": "A5R50JK8NE4A"
      },
      "source": [
        "import numpy as np\n",
        "np.random.seed(2021) # para reproducibilidad\n",
        "\n",
        "class ConteoProbabilista:  \n",
        "  def __init__(self, n_cubetas, primo, n_bits=64):\n",
        "    self.primo = primo  \n",
        "    self.n_cubetas = n_cubetas\n",
        "    self.a = np.random.randint(1, self.primo - 1)\n",
        "    self.b = np.random.randint(0, self.primo - 1)\n",
        "    self.bitmap = np.zeros(n_bits, dtype=np.bool)\n",
        "\n",
        "  def __call__(self, x):\n",
        "    hv = ((self.a * x + self.b) % self.primo) % self.n_cubetas\n",
        "    i = bin(hv)[2:][::-1].find('1')\n",
        "    self.bitmap[i] = 1\n",
        "\n",
        "  def cardinalidad(self):\n",
        "    r = np.argwhere(self.bitmap == 0)[0]\n",
        "    return (2**r) / 0.77351"
      ],
      "execution_count": 1,
      "outputs": []
    },
    {
      "cell_type": "markdown",
      "metadata": {
        "id": "QfbDUb95fsGX"
      },
      "source": [
        "Definimos una clase que realiza varias estimaciones, las divide en grupos pequeños, obtiene la mediana de las estimaciones de cada grupo y toma el promedio de las medianas como estimación final."
      ]
    },
    {
      "cell_type": "code",
      "metadata": {
        "id": "a5kgdKmwf9mX"
      },
      "source": [
        "class EstimadorElementosDistintos:\n",
        "  def __init__(self, n_cubetas, n_grupos, n_funciones, primo, n_bits):\n",
        "    self.n_grupos = n_grupos\n",
        "    self.n_funciones = n_funciones\n",
        "    self.estimadores = []\n",
        "    for i in range(self.n_grupos):\n",
        "      func = []\n",
        "      for j in range(self.n_funciones):\n",
        "        func.append(ConteoProbabilista(n_cubetas, primo, n_bits))\n",
        "      self.estimadores.append(func)\n",
        "    self.conteos = np.zeros((self.n_grupos, self.n_funciones))\n",
        "\n",
        "  def __call__(self, x):\n",
        "    for i in range(self.n_grupos):\n",
        "      for j in range(self.n_funciones):  \n",
        "        self.estimadores[i][j](x)\n",
        "        self.conteos[i, j] = self.estimadores[i][j].cardinalidad()\n",
        "      \n",
        "  def cardinalidad(self):\n",
        "    return np.mean(np.median(self.conteos, axis=1))"
      ],
      "execution_count": 2,
      "outputs": []
    },
    {
      "cell_type": "markdown",
      "metadata": {
        "id": "rXaQA1Ome0NT"
      },
      "source": [
        "Generamos números aleatorios."
      ]
    },
    {
      "cell_type": "code",
      "metadata": {
        "id": "xcFfCLRqYc76",
        "colab": {
          "base_uri": "https://localhost:8080/"
        },
        "outputId": "f818cd0f-8e59-4f5e-952b-1b2fd3bb9f6b"
      },
      "source": [
        "import numpy as np\n",
        "\n",
        "X = np.random.randint(0,100000, size=1000000)\n",
        "print(\"Hay {0} elementos distintos\".format(np.unique(X).size))"
      ],
      "execution_count": 3,
      "outputs": [
        {
          "output_type": "stream",
          "text": [
            "Hay 99995 elementos distintos\n"
          ],
          "name": "stdout"
        }
      ]
    },
    {
      "cell_type": "markdown",
      "metadata": {
        "id": "aJYKNyORfVvL"
      },
      "source": [
        "Instanciamos nuestra clase y estimamos elementos distintos."
      ]
    },
    {
      "cell_type": "code",
      "metadata": {
        "colab": {
          "base_uri": "https://localhost:8080/"
        },
        "id": "vdXeSYsGwS9J",
        "outputId": "29945f7f-dbb7-4750-8036-328f6ee7002b"
      },
      "source": [
        "est = EstimadorElementosDistintos(10000000, 5, 10, 4294967291, 64)\n",
        "\n",
        "for i,x in enumerate(X):\n",
        "  est(x)\n",
        "  \n",
        "print(u'Real = {0} Estimación = {1} '.format(np.unique(X[:i+1]).size, \n",
        "                                             est.cardinalidad()))"
      ],
      "execution_count": 4,
      "outputs": [
        {
          "output_type": "stream",
          "text": [
            "Real = 99995 Estimación = 84725.47219816162 \n"
          ],
          "name": "stdout"
        }
      ]
    }
  ]
}