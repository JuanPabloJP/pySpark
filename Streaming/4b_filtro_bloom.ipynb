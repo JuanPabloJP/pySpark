{
  "nbformat": 4,
  "nbformat_minor": 0,
  "metadata": {
    "colab": {
      "name": "4b_filtro_bloom.ipynb",
      "provenance": [],
      "authorship_tag": "ABX9TyOtEc1pmVreiyx3N64Y5zjE",
      "include_colab_link": true
    },
    "kernelspec": {
      "name": "python3",
      "display_name": "Python 3"
    },
    "language_info": {
      "name": "python"
    }
  },
  "cells": [
    {
      "cell_type": "markdown",
      "metadata": {
        "id": "view-in-github",
        "colab_type": "text"
      },
      "source": [
        "<a href=\"https://colab.research.google.com/github/gibranfp/CursoDatosMasivosI/blob/main/notebooks/4b_filtro_bloom.ipynb\" target=\"_parent\"><img src=\"https://colab.research.google.com/assets/colab-badge.svg\" alt=\"Open In Colab\"/></a>"
      ]
    },
    {
      "cell_type": "markdown",
      "metadata": {
        "id": "uFg6o5crvGxv"
      },
      "source": [
        "# Filtro de Bloom\n",
        "En esta libreta programaremos un filtro de Bloom usando NumPy. Un filtro de Bloom consiste en un arreglo de $n$ bits inicializados con $0$.\n",
        "\n",
        "* Construcción\n",
        "  1. Para cada elemento $s$ del conjunto de cardinalidad $m$, se calculan los valores _hash_ con $k$ funciones distintas $h_1(s), h_2(s), \\ldots, h_k(s)$.\n",
        "  2. Los $k$ bits en las posiciones correspondientes a los $k$ valores _hash_ se ponen a 1.\n",
        "\n",
        "* Verificación de pertenencia de un nuevo elemento $\\tilde{s}$\n",
        "  1. Calcula los valores _hash_ para $\\tilde{s}$: $h_1(\\tilde{s}), h_2(\\tilde{s}), \\ldots , h_k(\\tilde{s})$.\n",
        "  2. Si todos los bits en las posiciones correspondientes a los $k$ valores _hash_ son 1, entonces el elemento $\\tilde{s}$ sí pertenece al conjunto, en caso contrario no pertenece."
      ]
    },
    {
      "cell_type": "code",
      "metadata": {
        "id": "A5R50JK8NE4A"
      },
      "source": [
        "import numpy as np\n",
        "import murmurhash\n",
        "\n",
        "class FiltroBloom:  \n",
        "  def __init__(self, n, m, k):  \n",
        "    self.n = n\n",
        "    self.m = m\n",
        "    self.k = k\n",
        "    self.arrbit = np.zeros(n, dtype=np.bool)\n",
        "\n",
        "  def registra(self, s):\n",
        "    for i in range(self.k):\n",
        "      hv = murmurhash.mrmr.hash(s, i) % self.n \n",
        "      self.arrbit[hv] = True \n",
        "\n",
        "  def verifica(self, s):\n",
        "    bits = np.zeros(self.k, dtype=np.bool)\n",
        "    for i in range(self.k):\n",
        "      hv = murmurhash.mrmr.hash(s,i) % self.n \n",
        "      bits[i] = self.arrbit[hv]\n",
        "\n",
        "    return np.all(bits)"
      ],
      "execution_count": 1,
      "outputs": []
    },
    {
      "cell_type": "markdown",
      "metadata": {
        "id": "4fKY7GvexE6X"
      },
      "source": [
        "Para probar nuestro filtro vamos a usar una lista de URLs populares."
      ]
    },
    {
      "cell_type": "code",
      "metadata": {
        "colab": {
          "base_uri": "https://localhost:8080/"
        },
        "id": "qe_k6HH6xLCC",
        "outputId": "e6e5bb11-d99a-431e-a81e-ecc9b1e7ca4e"
      },
      "source": [
        "!wget https://gist.githubusercontent.com/demersdesigns/4442cd84c1cc6c5ccda9b19eac1ba52b/raw/cf06109a805b661dd12133f9aa4473435e478569/craft-popular-urls"
      ],
      "execution_count": 2,
      "outputs": [
        {
          "output_type": "stream",
          "text": [
            "--2021-05-12 21:27:17--  https://gist.githubusercontent.com/demersdesigns/4442cd84c1cc6c5ccda9b19eac1ba52b/raw/cf06109a805b661dd12133f9aa4473435e478569/craft-popular-urls\n",
            "Resolving gist.githubusercontent.com (gist.githubusercontent.com)... 185.199.110.133, 185.199.108.133, 185.199.109.133, ...\n",
            "Connecting to gist.githubusercontent.com (gist.githubusercontent.com)|185.199.110.133|:443... connected.\n",
            "HTTP request sent, awaiting response... 200 OK\n",
            "Length: 2254 (2.2K) [text/plain]\n",
            "Saving to: ‘craft-popular-urls.22’\n",
            "\n",
            "\rcraft-popular-urls.   0%[                    ]       0  --.-KB/s               \rcraft-popular-urls. 100%[===================>]   2.20K  --.-KB/s    in 0s      \n",
            "\n",
            "2021-05-12 21:27:17 (24.6 MB/s) - ‘craft-popular-urls.22’ saved [2254/2254]\n",
            "\n"
          ],
          "name": "stdout"
        }
      ]
    },
    {
      "cell_type": "markdown",
      "metadata": {
        "id": "wBK0QKaQxM6L"
      },
      "source": [
        "Leemos la lista de URLs."
      ]
    },
    {
      "cell_type": "code",
      "metadata": {
        "colab": {
          "base_uri": "https://localhost:8080/"
        },
        "id": "6JZpm1AAu8Ej",
        "outputId": "862822df-e4e9-4240-c090-af4d01dcc536"
      },
      "source": [
        "with open('craft-popular-urls') as f:\n",
        "  urls = f.read().split('\\n')\n",
        "print(urls)"
      ],
      "execution_count": 3,
      "outputs": [
        {
          "output_type": "stream",
          "text": [
            "['http://www.youtube.com', 'http://www.facebook.com', 'http://www.baidu.com', 'http://www.yahoo.com', 'http://www.amazon.com', 'http://www.wikipedia.org', 'http://www.qq.com', 'http://www.google.co.in', 'http://www.twitter.com', 'http://www.live.com', 'http://www.taobao.com', 'http://www.bing.com', 'http://www.instagram.com', 'http://www.weibo.com', 'http://www.sina.com.cn', 'http://www.linkedin.com', 'http://www.yahoo.co.jp', 'http://www.msn.com', 'http://www.vk.com', 'http://www.google.de', 'http://www.yandex.ru', 'http://www.hao123.com', 'http://www.google.co.uk', 'http://www.reddit.com', 'http://www.ebay.com', 'http://www.google.fr', 'http://www.t.co', 'http://www.tmall.com', 'http://www.google.com.br', 'http://www.360.cn', 'http://www.sohu.com', 'http://www.amazon.co.jp', 'http://www.pinterest.com', 'http://www.netflix.com', 'http://www.google.it', 'http://www.google.ru', 'http://www.microsoft.com', 'http://www.google.es', 'http://www.wordpress.com', 'http://www.gmw.cn', 'http://www.tumblr.com', 'http://www.paypal.com', 'http://www.blogspot.com', 'http://www.imgur.com', 'http://www.stackoverflow.com', 'http://www.aliexpress.com', 'http://www.naver.com', 'http://www.ok.ru', 'http://www.apple.com', 'http://www.github.com', 'http://www.chinadaily.com.cn', 'http://www.imdb.com', 'http://www.google.co.kr', 'http://www.fc2.com', 'http://www.jd.com', 'http://www.blogger.com', 'http://www.163.com', 'http://www.google.ca', 'http://www.whatsapp.com', 'http://www.amazon.in', 'http://www.office.com', 'http://www.tianya.cn', 'http://www.google.co.id', 'http://www.youku.com', 'http://www.rakuten.co.jp', 'http://www.craigslist.org', 'http://www.amazon.de', 'http://www.nicovideo.jp', 'http://www.google.pl', 'http://www.soso.com', 'http://www.bilibili.com', 'http://www.dropbox.com', 'http://www.xinhuanet.com', 'http://www.outbrain.com', 'http://www.pixnet.net', 'http://www.alibaba.com', 'http://www.alipay.com', 'http://www.microsoftonline.com', 'http://www.booking.com', 'http://www.googleusercontent.com', 'http://www.google.com.au', 'http://www.popads.net', 'http://www.cntv.cn', 'http://www.zhihu.com', 'http://www.amazon.co.uk', 'http://www.diply.com', 'http://www.coccoc.com', 'http://www.cnn.com', 'http://www.bbc.co.uk', 'http://www.twitch.tv', 'http://www.wikia.com', 'http://www.google.co.th', 'http://www.go.com', 'http://www.google.com.ph', 'http://www.doubleclick.net', 'http://www.onet.pl', 'http://www.googleadservices.com', 'http://www.accuweather.com', 'http://www.googleweblight.com', 'http://www.answers.yahoo.com']\n"
          ],
          "name": "stdout"
        }
      ]
    },
    {
      "cell_type": "markdown",
      "metadata": {
        "id": "KKoTEPxkx3lS"
      },
      "source": [
        "Instanciamos nuestra clase y registramos las URL"
      ]
    },
    {
      "cell_type": "code",
      "metadata": {
        "id": "jLTfZ-GZw-hU"
      },
      "source": [
        "fb = FiltroBloom(1000, len(urls), 5)\n",
        "\n",
        "for u in urls:\n",
        "  fb.registra(u)"
      ],
      "execution_count": 4,
      "outputs": []
    },
    {
      "cell_type": "markdown",
      "metadata": {
        "id": "6CgVkgujdXQD"
      },
      "source": [
        "Revisamos cómo queda el arreglo de bits después de registrar todos los elementos"
      ]
    },
    {
      "cell_type": "code",
      "metadata": {
        "colab": {
          "base_uri": "https://localhost:8080/"
        },
        "id": "MrCMsADqRsnx",
        "outputId": "b07b2f37-a729-4d56-c807-ad80c70ca186"
      },
      "source": [
        "print(u'Proporción de bits distintos a 0 = {0}'.format(fb.arrbit.nonzero()[0].size / fb.arrbit.size))"
      ],
      "execution_count": 5,
      "outputs": [
        {
          "output_type": "stream",
          "text": [
            "Proporción de bits distintos a 0 = 0.39\n"
          ],
          "name": "stdout"
        }
      ]
    },
    {
      "cell_type": "markdown",
      "metadata": {
        "id": "SCTS-zyH09bd"
      },
      "source": [
        "Verificamos algunas URL"
      ]
    },
    {
      "cell_type": "code",
      "metadata": {
        "colab": {
          "base_uri": "https://localhost:8080/"
        },
        "id": "nkIgnIJRyVPB",
        "outputId": "4dec9474-ebe7-4e16-f2b7-17f78abcb2ec"
      },
      "source": [
        "print(fb.verifica('http://www.youtube.com'))\n",
        "print(fb.verifica('http://www.facebook.com'))\n",
        "print(fb.verifica('http://www.yahoo.com'))\n",
        "print(fb.verifica('http://www.amazon.com'))\n",
        "print(fb.verifica('http://www.wikipedia.org'))\n",
        "print(fb.verifica('http://www.baidu.com'))\n",
        "print(fb.verifica('http://www.twitter.com'))\n",
        "print(fb.verifica('http://www.unam.mx'))\n",
        "print(fb.verifica('http://www.twitter.com/'))\n",
        "print(fb.verifica('https://www.twitter.com'))\n",
        "print(fb.verifica('https://www.twitter.com/'))"
      ],
      "execution_count": 6,
      "outputs": [
        {
          "output_type": "stream",
          "text": [
            "True\n",
            "True\n",
            "True\n",
            "True\n",
            "True\n",
            "True\n",
            "True\n",
            "False\n",
            "False\n",
            "True\n",
            "False\n"
          ],
          "name": "stdout"
        }
      ]
    },
    {
      "cell_type": "markdown",
      "metadata": {
        "id": "uG-7JBwY0_7m"
      },
      "source": [
        "## Ejercicio\n",
        "* Explora distintos valores de hiperparámetros\n",
        "* Cambia la función _hash_ de la clase"
      ]
    }
  ]
}