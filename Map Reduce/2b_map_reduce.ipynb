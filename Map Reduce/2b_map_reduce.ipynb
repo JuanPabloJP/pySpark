{
  "nbformat": 4,
  "nbformat_minor": 0,
  "metadata": {
    "colab": {
      "name": "2b_map_reduce.ipynb",
      "provenance": [],
      "collapsed_sections": [],
      "include_colab_link": true
    },
    "kernelspec": {
      "name": "python3",
      "display_name": "Python 3"
    }
  },
  "cells": [
    {
      "cell_type": "markdown",
      "metadata": {
        "id": "view-in-github",
        "colab_type": "text"
      },
      "source": [
        "<a href=\"https://colab.research.google.com/github/gibranfp/CursoDatosMasivosI/blob/main/notebooks/2b_map_reduce.ipynb\" target=\"_parent\"><img src=\"https://colab.research.google.com/assets/colab-badge.svg\" alt=\"Open In Colab\"/></a>"
      ]
    },
    {
      "cell_type": "markdown",
      "metadata": {
        "id": "5I4qrFG9-Rvf"
      },
      "source": [
        "# 2. *MapReduce*\n",
        "\n",
        "\n",
        "En este notebook haremos una revisión aplicada de operaciones Map y Reduce.\n",
        "\n",
        "\n",
        "## 2.1 Introducción\n",
        "\n",
        "\n",
        "*MapReduce* es un modelo de programación que nos permite procesar enormes cantidades de datos de forma distribuida sobre un *cluster*. \n",
        "\n",
        "\n",
        "La idea principal detrás de este modelo de programación consiste en primero transformar los datos de tal forma que tengan un formato `(llave, valor)`  para después reducir los datos, combinando de alguna manera todos los valores correspondientes a la misma `llave`.\n",
        "\n",
        "\n",
        "Para realizar este proceso solo es necesario definir dos funciones:\n",
        "\n",
        "\n",
        "* *Map*: Transforma los datos en pares `(llave, valor)`.\n",
        "* *Reduce*: Combina todos los valores asociados a la misma `llave` de alguna forma.\n",
        "\n",
        "\n",
        "El gran atractivo que tiene este modelo de programación es que permite a herramientas como *Spark* procesar grandes cantidades de datos sobre un *cluster* si no que incluso puede evitar que fallas en los nodos del *cluster* afecten los cálculos y procesos realizados con los datos.\n",
        "\n",
        "\n",
        "En este notebook nos daremos a la tarea de mostrar varios ejemplos de como llevar a cabo este modelo de programación usando `Python` y `PySpark`.\n",
        "\n",
        "\n",
        "Antes de pasar a los ejemplos debemos instalar nuestro entorno de desarrollo con `PySpark`."
      ]
    },
    {
      "cell_type": "code",
      "metadata": {
        "id": "pSjTC8BUE3Dw",
        "colab": {
          "base_uri": "https://localhost:8080/"
        },
        "outputId": "3c37cf75-b14b-42d7-875d-5e43a0ecdeb4"
      },
      "source": [
        "!pip install pyspark\n",
        "!pip install -U -q PyDrive\n",
        "!apt install openjdk-8-jdk-headless -qq\n",
        "import os\n",
        "os.environ[\"JAVA_HOME\"] = \"/usr/lib/jvm/java-8-openjdk-amd64\""
      ],
      "execution_count": 1,
      "outputs": [
        {
          "output_type": "stream",
          "text": [
            "Requirement already satisfied: pyspark in /usr/local/lib/python3.7/dist-packages (3.1.1)\n",
            "Requirement already satisfied: py4j==0.10.9 in /usr/local/lib/python3.7/dist-packages (from pyspark) (0.10.9)\n",
            "openjdk-8-jdk-headless is already the newest version (8u282-b08-0ubuntu1~18.04).\n",
            "0 upgraded, 0 newly installed, 0 to remove and 29 not upgraded.\n"
          ],
          "name": "stdout"
        }
      ]
    },
    {
      "cell_type": "markdown",
      "metadata": {
        "id": "yIF2lMe4Iciv"
      },
      "source": [
        "Para empezar a hacer uso de PySpark es necesario crear una `SparkSession`, dicho objeto es el que nos permitirá crear RDDs o DataFrames, que son los objetos con los que más estaremos trabajando"
      ]
    },
    {
      "cell_type": "code",
      "metadata": {
        "id": "lMl3Yv0SLl73"
      },
      "source": [
        "import pyspark\n",
        "# Carga ufnciones extra\n",
        "from pyspark.sql.functions import * \n",
        "from pyspark.sql import SparkSession\n",
        "spark = SparkSession.builder.appName('MapReduce').getOrCreate()"
      ],
      "execution_count": 2,
      "outputs": []
    },
    {
      "cell_type": "markdown",
      "metadata": {
        "id": "XyPsAj8tHXxY"
      },
      "source": [
        "Ademas de `PySpark` usaremos usaremos las siguientes bibliotecas"
      ]
    },
    {
      "cell_type": "code",
      "metadata": {
        "id": "awmMztrEHWpe",
        "outputId": "838c93d9-f25d-45dd-ecb0-27d7bd580eb3",
        "colab": {
          "base_uri": "https://localhost:8080/"
        }
      },
      "source": [
        "import numpy as np\n",
        "import matplotlib.pyplot as plt\n",
        "\n",
        "# Procesamiento del lenguaje natural\n",
        "!pip install nltk\n",
        "!pip install --upgrade pip\n",
        "!python -m nltk.downloader all\n",
        "\n",
        "import nltk\n",
        "import string\n",
        "\n",
        "# Experimental?\n",
        "\n",
        "!pip install sentiment-analysis-spanish\n",
        "!pip install keras tensorflow\n",
        "\n",
        "from sentiment_analysis_spanish import sentiment_analysis"
      ],
      "execution_count": 3,
      "outputs": [
        {
          "output_type": "stream",
          "text": [
            "Requirement already satisfied: nltk in /usr/local/lib/python3.7/dist-packages (3.2.5)\n",
            "Requirement already satisfied: six in /usr/local/lib/python3.7/dist-packages (from nltk) (1.15.0)\n",
            "Requirement already satisfied: pip in /usr/local/lib/python3.7/dist-packages (21.0.1)\n",
            "/usr/lib/python3.7/runpy.py:125: RuntimeWarning: 'nltk.downloader' found in sys.modules after import of package 'nltk', but prior to execution of 'nltk.downloader'; this may result in unpredictable behaviour\n",
            "  warn(RuntimeWarning(msg))\n",
            "[nltk_data] Downloading collection 'all'\n",
            "[nltk_data]    | \n",
            "[nltk_data]    | Downloading package abc to /root/nltk_data...\n",
            "[nltk_data]    |   Package abc is already up-to-date!\n",
            "[nltk_data]    | Downloading package alpino to /root/nltk_data...\n",
            "[nltk_data]    |   Package alpino is already up-to-date!\n",
            "[nltk_data]    | Downloading package biocreative_ppi to\n",
            "[nltk_data]    |     /root/nltk_data...\n",
            "[nltk_data]    |   Package biocreative_ppi is already up-to-date!\n",
            "[nltk_data]    | Downloading package brown to /root/nltk_data...\n",
            "[nltk_data]    |   Package brown is already up-to-date!\n",
            "[nltk_data]    | Downloading package brown_tei to /root/nltk_data...\n",
            "[nltk_data]    |   Package brown_tei is already up-to-date!\n",
            "[nltk_data]    | Downloading package cess_cat to /root/nltk_data...\n",
            "[nltk_data]    |   Package cess_cat is already up-to-date!\n",
            "[nltk_data]    | Downloading package cess_esp to /root/nltk_data...\n",
            "[nltk_data]    |   Package cess_esp is already up-to-date!\n",
            "[nltk_data]    | Downloading package chat80 to /root/nltk_data...\n",
            "[nltk_data]    |   Package chat80 is already up-to-date!\n",
            "[nltk_data]    | Downloading package city_database to\n",
            "[nltk_data]    |     /root/nltk_data...\n",
            "[nltk_data]    |   Package city_database is already up-to-date!\n",
            "[nltk_data]    | Downloading package cmudict to /root/nltk_data...\n",
            "[nltk_data]    |   Package cmudict is already up-to-date!\n",
            "[nltk_data]    | Downloading package comparative_sentences to\n",
            "[nltk_data]    |     /root/nltk_data...\n",
            "[nltk_data]    |   Package comparative_sentences is already up-to-\n",
            "[nltk_data]    |       date!\n",
            "[nltk_data]    | Downloading package comtrans to /root/nltk_data...\n",
            "[nltk_data]    |   Package comtrans is already up-to-date!\n",
            "[nltk_data]    | Downloading package conll2000 to /root/nltk_data...\n",
            "[nltk_data]    |   Package conll2000 is already up-to-date!\n",
            "[nltk_data]    | Downloading package conll2002 to /root/nltk_data...\n",
            "[nltk_data]    |   Package conll2002 is already up-to-date!\n",
            "[nltk_data]    | Downloading package conll2007 to /root/nltk_data...\n",
            "[nltk_data]    |   Package conll2007 is already up-to-date!\n",
            "[nltk_data]    | Downloading package crubadan to /root/nltk_data...\n",
            "[nltk_data]    |   Package crubadan is already up-to-date!\n",
            "[nltk_data]    | Downloading package dependency_treebank to\n",
            "[nltk_data]    |     /root/nltk_data...\n",
            "[nltk_data]    |   Package dependency_treebank is already up-to-date!\n",
            "[nltk_data]    | Downloading package dolch to /root/nltk_data...\n",
            "[nltk_data]    |   Package dolch is already up-to-date!\n",
            "[nltk_data]    | Downloading package europarl_raw to\n",
            "[nltk_data]    |     /root/nltk_data...\n",
            "[nltk_data]    |   Package europarl_raw is already up-to-date!\n",
            "[nltk_data]    | Downloading package floresta to /root/nltk_data...\n",
            "[nltk_data]    |   Package floresta is already up-to-date!\n",
            "[nltk_data]    | Downloading package framenet_v15 to\n",
            "[nltk_data]    |     /root/nltk_data...\n",
            "[nltk_data]    |   Package framenet_v15 is already up-to-date!\n",
            "[nltk_data]    | Downloading package framenet_v17 to\n",
            "[nltk_data]    |     /root/nltk_data...\n",
            "[nltk_data]    |   Package framenet_v17 is already up-to-date!\n",
            "[nltk_data]    | Downloading package gazetteers to /root/nltk_data...\n",
            "[nltk_data]    |   Package gazetteers is already up-to-date!\n",
            "[nltk_data]    | Downloading package genesis to /root/nltk_data...\n",
            "[nltk_data]    |   Package genesis is already up-to-date!\n",
            "[nltk_data]    | Downloading package gutenberg to /root/nltk_data...\n",
            "[nltk_data]    |   Package gutenberg is already up-to-date!\n",
            "[nltk_data]    | Downloading package ieer to /root/nltk_data...\n",
            "[nltk_data]    |   Package ieer is already up-to-date!\n",
            "[nltk_data]    | Downloading package inaugural to /root/nltk_data...\n",
            "[nltk_data]    |   Package inaugural is already up-to-date!\n",
            "[nltk_data]    | Downloading package indian to /root/nltk_data...\n",
            "[nltk_data]    |   Package indian is already up-to-date!\n",
            "[nltk_data]    | Downloading package jeita to /root/nltk_data...\n",
            "[nltk_data]    |   Package jeita is already up-to-date!\n",
            "[nltk_data]    | Downloading package kimmo to /root/nltk_data...\n",
            "[nltk_data]    |   Package kimmo is already up-to-date!\n",
            "[nltk_data]    | Downloading package knbc to /root/nltk_data...\n",
            "[nltk_data]    |   Package knbc is already up-to-date!\n",
            "[nltk_data]    | Downloading package lin_thesaurus to\n",
            "[nltk_data]    |     /root/nltk_data...\n",
            "[nltk_data]    |   Package lin_thesaurus is already up-to-date!\n",
            "[nltk_data]    | Downloading package mac_morpho to /root/nltk_data...\n",
            "[nltk_data]    |   Package mac_morpho is already up-to-date!\n",
            "[nltk_data]    | Downloading package machado to /root/nltk_data...\n",
            "[nltk_data]    |   Package machado is already up-to-date!\n",
            "[nltk_data]    | Downloading package masc_tagged to /root/nltk_data...\n",
            "[nltk_data]    |   Package masc_tagged is already up-to-date!\n",
            "[nltk_data]    | Downloading package moses_sample to\n",
            "[nltk_data]    |     /root/nltk_data...\n",
            "[nltk_data]    |   Package moses_sample is already up-to-date!\n",
            "[nltk_data]    | Downloading package movie_reviews to\n",
            "[nltk_data]    |     /root/nltk_data...\n",
            "[nltk_data]    |   Package movie_reviews is already up-to-date!\n",
            "[nltk_data]    | Downloading package names to /root/nltk_data...\n",
            "[nltk_data]    |   Package names is already up-to-date!\n",
            "[nltk_data]    | Downloading package nombank.1.0 to /root/nltk_data...\n",
            "[nltk_data]    |   Package nombank.1.0 is already up-to-date!\n",
            "[nltk_data]    | Downloading package nps_chat to /root/nltk_data...\n",
            "[nltk_data]    |   Package nps_chat is already up-to-date!\n",
            "[nltk_data]    | Downloading package omw to /root/nltk_data...\n",
            "[nltk_data]    |   Package omw is already up-to-date!\n",
            "[nltk_data]    | Downloading package opinion_lexicon to\n",
            "[nltk_data]    |     /root/nltk_data...\n",
            "[nltk_data]    |   Package opinion_lexicon is already up-to-date!\n",
            "[nltk_data]    | Downloading package paradigms to /root/nltk_data...\n",
            "[nltk_data]    |   Package paradigms is already up-to-date!\n",
            "[nltk_data]    | Downloading package pil to /root/nltk_data...\n",
            "[nltk_data]    |   Package pil is already up-to-date!\n",
            "[nltk_data]    | Downloading package pl196x to /root/nltk_data...\n",
            "[nltk_data]    |   Package pl196x is already up-to-date!\n",
            "[nltk_data]    | Downloading package ppattach to /root/nltk_data...\n",
            "[nltk_data]    |   Package ppattach is already up-to-date!\n",
            "[nltk_data]    | Downloading package problem_reports to\n",
            "[nltk_data]    |     /root/nltk_data...\n",
            "[nltk_data]    |   Package problem_reports is already up-to-date!\n",
            "[nltk_data]    | Downloading package propbank to /root/nltk_data...\n",
            "[nltk_data]    |   Package propbank is already up-to-date!\n",
            "[nltk_data]    | Downloading package ptb to /root/nltk_data...\n",
            "[nltk_data]    |   Package ptb is already up-to-date!\n",
            "[nltk_data]    | Downloading package product_reviews_1 to\n",
            "[nltk_data]    |     /root/nltk_data...\n",
            "[nltk_data]    |   Package product_reviews_1 is already up-to-date!\n",
            "[nltk_data]    | Downloading package product_reviews_2 to\n",
            "[nltk_data]    |     /root/nltk_data...\n",
            "[nltk_data]    |   Package product_reviews_2 is already up-to-date!\n",
            "[nltk_data]    | Downloading package pros_cons to /root/nltk_data...\n",
            "[nltk_data]    |   Package pros_cons is already up-to-date!\n",
            "[nltk_data]    | Downloading package qc to /root/nltk_data...\n",
            "[nltk_data]    |   Package qc is already up-to-date!\n",
            "[nltk_data]    | Downloading package reuters to /root/nltk_data...\n",
            "[nltk_data]    |   Package reuters is already up-to-date!\n",
            "[nltk_data]    | Downloading package rte to /root/nltk_data...\n",
            "[nltk_data]    |   Package rte is already up-to-date!\n",
            "[nltk_data]    | Downloading package semcor to /root/nltk_data...\n",
            "[nltk_data]    |   Package semcor is already up-to-date!\n",
            "[nltk_data]    | Downloading package senseval to /root/nltk_data...\n",
            "[nltk_data]    |   Package senseval is already up-to-date!\n",
            "[nltk_data]    | Downloading package sentiwordnet to\n",
            "[nltk_data]    |     /root/nltk_data...\n",
            "[nltk_data]    |   Package sentiwordnet is already up-to-date!\n",
            "[nltk_data]    | Downloading package sentence_polarity to\n",
            "[nltk_data]    |     /root/nltk_data...\n",
            "[nltk_data]    |   Package sentence_polarity is already up-to-date!\n",
            "[nltk_data]    | Downloading package shakespeare to /root/nltk_data...\n",
            "[nltk_data]    |   Package shakespeare is already up-to-date!\n",
            "[nltk_data]    | Downloading package sinica_treebank to\n",
            "[nltk_data]    |     /root/nltk_data...\n",
            "[nltk_data]    |   Package sinica_treebank is already up-to-date!\n",
            "[nltk_data]    | Downloading package smultron to /root/nltk_data...\n",
            "[nltk_data]    |   Package smultron is already up-to-date!\n",
            "[nltk_data]    | Downloading package state_union to /root/nltk_data...\n",
            "[nltk_data]    |   Package state_union is already up-to-date!\n",
            "[nltk_data]    | Downloading package stopwords to /root/nltk_data...\n",
            "[nltk_data]    |   Package stopwords is already up-to-date!\n",
            "[nltk_data]    | Downloading package subjectivity to\n",
            "[nltk_data]    |     /root/nltk_data...\n",
            "[nltk_data]    |   Package subjectivity is already up-to-date!\n",
            "[nltk_data]    | Downloading package swadesh to /root/nltk_data...\n",
            "[nltk_data]    |   Package swadesh is already up-to-date!\n",
            "[nltk_data]    | Downloading package switchboard to /root/nltk_data...\n",
            "[nltk_data]    |   Package switchboard is already up-to-date!\n",
            "[nltk_data]    | Downloading package timit to /root/nltk_data...\n",
            "[nltk_data]    |   Package timit is already up-to-date!\n",
            "[nltk_data]    | Downloading package toolbox to /root/nltk_data...\n",
            "[nltk_data]    |   Package toolbox is already up-to-date!\n",
            "[nltk_data]    | Downloading package treebank to /root/nltk_data...\n",
            "[nltk_data]    |   Package treebank is already up-to-date!\n",
            "[nltk_data]    | Downloading package twitter_samples to\n",
            "[nltk_data]    |     /root/nltk_data...\n",
            "[nltk_data]    |   Package twitter_samples is already up-to-date!\n",
            "[nltk_data]    | Downloading package udhr to /root/nltk_data...\n",
            "[nltk_data]    |   Package udhr is already up-to-date!\n",
            "[nltk_data]    | Downloading package udhr2 to /root/nltk_data...\n",
            "[nltk_data]    |   Package udhr2 is already up-to-date!\n",
            "[nltk_data]    | Downloading package unicode_samples to\n",
            "[nltk_data]    |     /root/nltk_data...\n",
            "[nltk_data]    |   Package unicode_samples is already up-to-date!\n",
            "[nltk_data]    | Downloading package universal_treebanks_v20 to\n",
            "[nltk_data]    |     /root/nltk_data...\n",
            "[nltk_data]    |   Package universal_treebanks_v20 is already up-to-\n",
            "[nltk_data]    |       date!\n",
            "[nltk_data]    | Downloading package verbnet to /root/nltk_data...\n",
            "[nltk_data]    |   Package verbnet is already up-to-date!\n",
            "[nltk_data]    | Downloading package verbnet3 to /root/nltk_data...\n",
            "[nltk_data]    |   Package verbnet3 is already up-to-date!\n",
            "[nltk_data]    | Downloading package webtext to /root/nltk_data...\n",
            "[nltk_data]    |   Package webtext is already up-to-date!\n",
            "[nltk_data]    | Downloading package wordnet to /root/nltk_data...\n",
            "[nltk_data]    |   Package wordnet is already up-to-date!\n",
            "[nltk_data]    | Downloading package wordnet_ic to /root/nltk_data...\n",
            "[nltk_data]    |   Package wordnet_ic is already up-to-date!\n",
            "[nltk_data]    | Downloading package words to /root/nltk_data...\n",
            "[nltk_data]    |   Package words is already up-to-date!\n",
            "[nltk_data]    | Downloading package ycoe to /root/nltk_data...\n",
            "[nltk_data]    |   Package ycoe is already up-to-date!\n",
            "[nltk_data]    | Downloading package rslp to /root/nltk_data...\n",
            "[nltk_data]    |   Package rslp is already up-to-date!\n",
            "[nltk_data]    | Downloading package maxent_treebank_pos_tagger to\n",
            "[nltk_data]    |     /root/nltk_data...\n",
            "[nltk_data]    |   Package maxent_treebank_pos_tagger is already up-\n",
            "[nltk_data]    |       to-date!\n",
            "[nltk_data]    | Downloading package universal_tagset to\n",
            "[nltk_data]    |     /root/nltk_data...\n",
            "[nltk_data]    |   Package universal_tagset is already up-to-date!\n",
            "[nltk_data]    | Downloading package maxent_ne_chunker to\n",
            "[nltk_data]    |     /root/nltk_data...\n",
            "[nltk_data]    |   Package maxent_ne_chunker is already up-to-date!\n",
            "[nltk_data]    | Downloading package punkt to /root/nltk_data...\n",
            "[nltk_data]    |   Package punkt is already up-to-date!\n",
            "[nltk_data]    | Downloading package book_grammars to\n",
            "[nltk_data]    |     /root/nltk_data...\n",
            "[nltk_data]    |   Package book_grammars is already up-to-date!\n",
            "[nltk_data]    | Downloading package sample_grammars to\n",
            "[nltk_data]    |     /root/nltk_data...\n",
            "[nltk_data]    |   Package sample_grammars is already up-to-date!\n",
            "[nltk_data]    | Downloading package spanish_grammars to\n",
            "[nltk_data]    |     /root/nltk_data...\n",
            "[nltk_data]    |   Package spanish_grammars is already up-to-date!\n",
            "[nltk_data]    | Downloading package basque_grammars to\n",
            "[nltk_data]    |     /root/nltk_data...\n",
            "[nltk_data]    |   Package basque_grammars is already up-to-date!\n",
            "[nltk_data]    | Downloading package large_grammars to\n",
            "[nltk_data]    |     /root/nltk_data...\n",
            "[nltk_data]    |   Package large_grammars is already up-to-date!\n",
            "[nltk_data]    | Downloading package tagsets to /root/nltk_data...\n",
            "[nltk_data]    |   Package tagsets is already up-to-date!\n",
            "[nltk_data]    | Downloading package snowball_data to\n",
            "[nltk_data]    |     /root/nltk_data...\n",
            "[nltk_data]    |   Package snowball_data is already up-to-date!\n",
            "[nltk_data]    | Downloading package bllip_wsj_no_aux to\n",
            "[nltk_data]    |     /root/nltk_data...\n",
            "[nltk_data]    |   Package bllip_wsj_no_aux is already up-to-date!\n",
            "[nltk_data]    | Downloading package word2vec_sample to\n",
            "[nltk_data]    |     /root/nltk_data...\n",
            "[nltk_data]    |   Package word2vec_sample is already up-to-date!\n",
            "[nltk_data]    | Downloading package panlex_swadesh to\n",
            "[nltk_data]    |     /root/nltk_data...\n",
            "[nltk_data]    |   Package panlex_swadesh is already up-to-date!\n",
            "[nltk_data]    | Downloading package mte_teip5 to /root/nltk_data...\n",
            "[nltk_data]    |   Package mte_teip5 is already up-to-date!\n",
            "[nltk_data]    | Downloading package averaged_perceptron_tagger to\n",
            "[nltk_data]    |     /root/nltk_data...\n",
            "[nltk_data]    |   Package averaged_perceptron_tagger is already up-\n",
            "[nltk_data]    |       to-date!\n",
            "[nltk_data]    | Downloading package averaged_perceptron_tagger_ru to\n",
            "[nltk_data]    |     /root/nltk_data...\n",
            "[nltk_data]    |   Package averaged_perceptron_tagger_ru is already\n",
            "[nltk_data]    |       up-to-date!\n",
            "[nltk_data]    | Downloading package perluniprops to\n",
            "[nltk_data]    |     /root/nltk_data...\n",
            "[nltk_data]    |   Package perluniprops is already up-to-date!\n",
            "[nltk_data]    | Downloading package nonbreaking_prefixes to\n",
            "[nltk_data]    |     /root/nltk_data...\n",
            "[nltk_data]    |   Package nonbreaking_prefixes is already up-to-date!\n",
            "[nltk_data]    | Downloading package vader_lexicon to\n",
            "[nltk_data]    |     /root/nltk_data...\n",
            "[nltk_data]    |   Package vader_lexicon is already up-to-date!\n",
            "[nltk_data]    | Downloading package porter_test to /root/nltk_data...\n",
            "[nltk_data]    |   Package porter_test is already up-to-date!\n",
            "[nltk_data]    | Downloading package wmt15_eval to /root/nltk_data...\n",
            "[nltk_data]    |   Package wmt15_eval is already up-to-date!\n",
            "[nltk_data]    | Downloading package mwa_ppdb to /root/nltk_data...\n",
            "[nltk_data]    |   Package mwa_ppdb is already up-to-date!\n",
            "[nltk_data]    | \n",
            "[nltk_data]  Done downloading collection all\n",
            "Requirement already satisfied: sentiment-analysis-spanish in /usr/local/lib/python3.7/dist-packages (0.0.25)\n",
            "Requirement already satisfied: keras in /usr/local/lib/python3.7/dist-packages (2.4.3)\n",
            "Requirement already satisfied: tensorflow in /usr/local/lib/python3.7/dist-packages (2.4.1)\n",
            "Requirement already satisfied: h5py in /usr/local/lib/python3.7/dist-packages (from keras) (2.10.0)\n",
            "Requirement already satisfied: numpy>=1.9.1 in /usr/local/lib/python3.7/dist-packages (from keras) (1.19.5)\n",
            "Requirement already satisfied: scipy>=0.14 in /usr/local/lib/python3.7/dist-packages (from keras) (1.4.1)\n",
            "Requirement already satisfied: pyyaml in /usr/local/lib/python3.7/dist-packages (from keras) (3.13)\n",
            "Requirement already satisfied: astunparse~=1.6.3 in /usr/local/lib/python3.7/dist-packages (from tensorflow) (1.6.3)\n",
            "Requirement already satisfied: tensorboard~=2.4 in /usr/local/lib/python3.7/dist-packages (from tensorflow) (2.4.1)\n",
            "Requirement already satisfied: six~=1.15.0 in /usr/local/lib/python3.7/dist-packages (from tensorflow) (1.15.0)\n",
            "Requirement already satisfied: keras-preprocessing~=1.1.2 in /usr/local/lib/python3.7/dist-packages (from tensorflow) (1.1.2)\n",
            "Requirement already satisfied: termcolor~=1.1.0 in /usr/local/lib/python3.7/dist-packages (from tensorflow) (1.1.0)\n",
            "Requirement already satisfied: flatbuffers~=1.12.0 in /usr/local/lib/python3.7/dist-packages (from tensorflow) (1.12)\n",
            "Requirement already satisfied: wrapt~=1.12.1 in /usr/local/lib/python3.7/dist-packages (from tensorflow) (1.12.1)\n",
            "Requirement already satisfied: tensorflow-estimator<2.5.0,>=2.4.0 in /usr/local/lib/python3.7/dist-packages (from tensorflow) (2.4.0)\n",
            "Requirement already satisfied: typing-extensions~=3.7.4 in /usr/local/lib/python3.7/dist-packages (from tensorflow) (3.7.4.3)\n",
            "Requirement already satisfied: gast==0.3.3 in /usr/local/lib/python3.7/dist-packages (from tensorflow) (0.3.3)\n",
            "Requirement already satisfied: opt-einsum~=3.3.0 in /usr/local/lib/python3.7/dist-packages (from tensorflow) (3.3.0)\n",
            "Requirement already satisfied: grpcio~=1.32.0 in /usr/local/lib/python3.7/dist-packages (from tensorflow) (1.32.0)\n",
            "Requirement already satisfied: absl-py~=0.10 in /usr/local/lib/python3.7/dist-packages (from tensorflow) (0.10.0)\n",
            "Requirement already satisfied: wheel~=0.35 in /usr/local/lib/python3.7/dist-packages (from tensorflow) (0.36.2)\n",
            "Requirement already satisfied: google-pasta~=0.2 in /usr/local/lib/python3.7/dist-packages (from tensorflow) (0.2.0)\n",
            "Requirement already satisfied: protobuf>=3.9.2 in /usr/local/lib/python3.7/dist-packages (from tensorflow) (3.12.4)\n",
            "Requirement already satisfied: setuptools in /usr/local/lib/python3.7/dist-packages (from protobuf>=3.9.2->tensorflow) (54.0.0)\n",
            "Requirement already satisfied: google-auth-oauthlib<0.5,>=0.4.1 in /usr/local/lib/python3.7/dist-packages (from tensorboard~=2.4->tensorflow) (0.4.2)\n",
            "Requirement already satisfied: markdown>=2.6.8 in /usr/local/lib/python3.7/dist-packages (from tensorboard~=2.4->tensorflow) (3.3.4)\n",
            "Requirement already satisfied: requests<3,>=2.21.0 in /usr/local/lib/python3.7/dist-packages (from tensorboard~=2.4->tensorflow) (2.23.0)\n",
            "Requirement already satisfied: tensorboard-plugin-wit>=1.6.0 in /usr/local/lib/python3.7/dist-packages (from tensorboard~=2.4->tensorflow) (1.8.0)\n",
            "Requirement already satisfied: google-auth<2,>=1.6.3 in /usr/local/lib/python3.7/dist-packages (from tensorboard~=2.4->tensorflow) (1.27.0)\n",
            "Requirement already satisfied: werkzeug>=0.11.15 in /usr/local/lib/python3.7/dist-packages (from tensorboard~=2.4->tensorflow) (1.0.1)\n",
            "Requirement already satisfied: cachetools<5.0,>=2.0.0 in /usr/local/lib/python3.7/dist-packages (from google-auth<2,>=1.6.3->tensorboard~=2.4->tensorflow) (4.2.1)\n",
            "Requirement already satisfied: rsa<5,>=3.1.4 in /usr/local/lib/python3.7/dist-packages (from google-auth<2,>=1.6.3->tensorboard~=2.4->tensorflow) (4.7.2)\n",
            "Requirement already satisfied: pyasn1-modules>=0.2.1 in /usr/local/lib/python3.7/dist-packages (from google-auth<2,>=1.6.3->tensorboard~=2.4->tensorflow) (0.2.8)\n",
            "Requirement already satisfied: requests-oauthlib>=0.7.0 in /usr/local/lib/python3.7/dist-packages (from google-auth-oauthlib<0.5,>=0.4.1->tensorboard~=2.4->tensorflow) (1.3.0)\n",
            "Requirement already satisfied: importlib-metadata in /usr/local/lib/python3.7/dist-packages (from markdown>=2.6.8->tensorboard~=2.4->tensorflow) (3.7.0)\n",
            "Requirement already satisfied: pyasn1<0.5.0,>=0.4.6 in /usr/local/lib/python3.7/dist-packages (from pyasn1-modules>=0.2.1->google-auth<2,>=1.6.3->tensorboard~=2.4->tensorflow) (0.4.8)\n",
            "Requirement already satisfied: chardet<4,>=3.0.2 in /usr/local/lib/python3.7/dist-packages (from requests<3,>=2.21.0->tensorboard~=2.4->tensorflow) (3.0.4)\n",
            "Requirement already satisfied: certifi>=2017.4.17 in /usr/local/lib/python3.7/dist-packages (from requests<3,>=2.21.0->tensorboard~=2.4->tensorflow) (2020.12.5)\n",
            "Requirement already satisfied: idna<3,>=2.5 in /usr/local/lib/python3.7/dist-packages (from requests<3,>=2.21.0->tensorboard~=2.4->tensorflow) (2.10)\n",
            "Requirement already satisfied: urllib3!=1.25.0,!=1.25.1,<1.26,>=1.21.1 in /usr/local/lib/python3.7/dist-packages (from requests<3,>=2.21.0->tensorboard~=2.4->tensorflow) (1.24.3)\n",
            "Requirement already satisfied: oauthlib>=3.0.0 in /usr/local/lib/python3.7/dist-packages (from requests-oauthlib>=0.7.0->google-auth-oauthlib<0.5,>=0.4.1->tensorboard~=2.4->tensorflow) (3.1.0)\n",
            "Requirement already satisfied: zipp>=0.5 in /usr/local/lib/python3.7/dist-packages (from importlib-metadata->markdown>=2.6.8->tensorboard~=2.4->tensorflow) (3.4.0)\n"
          ],
          "name": "stdout"
        }
      ]
    },
    {
      "cell_type": "markdown",
      "metadata": {
        "id": "mfXZwq0oLUFd"
      },
      "source": [
        "## 2.2 Ejemplos\n",
        "\n",
        "\n",
        "En esta sección revisaremos con ejemplos muy sencillos algunas de las combinaciones de funciones *Map* y *Reduce* más comunes. Estos ejemplos usan datos muy sencillos.\n",
        "\n",
        "\n",
        "### 2.2.1 `reduce`\n",
        "\n",
        "\n",
        "La operación *Reduce* asume que todos los valores corresponden a la misma llave, es decir se toma la función *Map* como la función identidad.\n",
        "\n",
        "\n",
        "Creemos un RDD a partir cuyos elementos sean 500 números enteros, estos los crearemos de forma aleatoria usando numpy"
      ]
    },
    {
      "cell_type": "code",
      "metadata": {
        "colab": {
          "base_uri": "https://localhost:8080/"
        },
        "id": "ohIrOD_uGRaq",
        "outputId": "9013d154-d594-4bb6-adad-4cb6699521e4"
      },
      "source": [
        "np.random.seed(182)\n",
        "dat_numeros = np.random.randint(10, size=1000)\n",
        "# Veamos una muestra\n",
        "dat_numeros[:10]"
      ],
      "execution_count": 4,
      "outputs": [
        {
          "output_type": "execute_result",
          "data": {
            "text/plain": [
              "array([9, 8, 2, 2, 2, 5, 8, 8, 7, 2])"
            ]
          },
          "metadata": {
            "tags": []
          },
          "execution_count": 4
        }
      ]
    },
    {
      "cell_type": "markdown",
      "metadata": {
        "id": "mI61LVgRIApw"
      },
      "source": [
        "creemos el RDD"
      ]
    },
    {
      "cell_type": "code",
      "metadata": {
        "colab": {
          "base_uri": "https://localhost:8080/"
        },
        "id": "rHNJ2SbLH_0l",
        "outputId": "f58e9f0e-65b3-4e8f-9766-d0b736377325"
      },
      "source": [
        "rdd_numeros = spark.sparkContext.parallelize(dat_numeros)\n",
        "\n",
        "# Revisemos el contenido del RDD\n",
        "for elemento in rdd_numeros.take(5):\n",
        "  print(elemento)"
      ],
      "execution_count": 5,
      "outputs": [
        {
          "output_type": "stream",
          "text": [
            "9\n",
            "8\n",
            "2\n",
            "2\n",
            "2\n"
          ],
          "name": "stdout"
        }
      ]
    },
    {
      "cell_type": "markdown",
      "metadata": {
        "id": "QC873nkxImq1"
      },
      "source": [
        "Podemos usar la función *Reduce* para saber, por ejemplo, la suma de todos los elementos"
      ]
    },
    {
      "cell_type": "code",
      "metadata": {
        "colab": {
          "base_uri": "https://localhost:8080/"
        },
        "id": "-0KagHsfHo8V",
        "outputId": "48d439e2-f6c3-4822-fe7e-20f35d711283"
      },
      "source": [
        "suma = rdd_numeros.reduce(lambda a, b: a + b)\n",
        "suma"
      ],
      "execution_count": 6,
      "outputs": [
        {
          "output_type": "execute_result",
          "data": {
            "text/plain": [
              "4323"
            ]
          },
          "metadata": {
            "tags": []
          },
          "execution_count": 6
        }
      ]
    },
    {
      "cell_type": "markdown",
      "metadata": {
        "id": "z_Ov5ZdoJv6j"
      },
      "source": [
        "También podríamos querer saber cual es el elemento máximo"
      ]
    },
    {
      "cell_type": "code",
      "metadata": {
        "colab": {
          "base_uri": "https://localhost:8080/"
        },
        "id": "NWdOBB91JXmZ",
        "outputId": "a9d49e2c-37b1-4fc8-caaf-99c50c7686a4"
      },
      "source": [
        "maximo = rdd_numeros.reduce(lambda a, b: a if a > b else b)\n",
        "maximo"
      ],
      "execution_count": 7,
      "outputs": [
        {
          "output_type": "execute_result",
          "data": {
            "text/plain": [
              "9"
            ]
          },
          "metadata": {
            "tags": []
          },
          "execution_count": 7
        }
      ]
    },
    {
      "cell_type": "markdown",
      "metadata": {
        "id": "T2JtOxY7RBwC"
      },
      "source": [
        "### 2.2.2 `map`\n",
        "\n",
        "\n",
        "Supongamos ahora que queremos saber la distribución de números en los datos, para esto tendremos que contar cuantas veces aparece cada numero, para esto podemos mapear los elemento de tal forma que cada elemento `numero` al par cuya llave sea el numero y el valor el numero de apariciones de dicho numero en cada renglón, es decir `(numero, 1)`. Esto lo podemos lograr con la función `map` de la siguiente forma"
      ]
    },
    {
      "cell_type": "code",
      "metadata": {
        "id": "2XOLEFPaJ6cQ",
        "colab": {
          "base_uri": "https://localhost:8080/"
        },
        "outputId": "eb26d23a-ed0f-44b0-84fc-898ed644cedb"
      },
      "source": [
        "rdd_conteo = rdd_numeros.map(lambda x: (x, 1))\n",
        "\n",
        "for elemento in rdd_conteo.take(5):\n",
        "  print(elemento)"
      ],
      "execution_count": 8,
      "outputs": [
        {
          "output_type": "stream",
          "text": [
            "(9, 1)\n",
            "(8, 1)\n",
            "(2, 1)\n",
            "(2, 1)\n",
            "(2, 1)\n"
          ],
          "name": "stdout"
        }
      ]
    },
    {
      "cell_type": "markdown",
      "metadata": {
        "id": "iU8xVw3FSq24"
      },
      "source": [
        "La función *map* también la podemos usar para transformar a los elementos del RDD de la forma en que queramos. Por ejemplo, podríamos querer obtener las 3 primeras potencias de cada elemento"
      ]
    },
    {
      "cell_type": "code",
      "metadata": {
        "colab": {
          "base_uri": "https://localhost:8080/"
        },
        "id": "lu1LJa3JSjKD",
        "outputId": "eb85074e-40a3-45a5-e3df-ecae4cdcb42a"
      },
      "source": [
        "# Podemos pasar una funcion \n",
        "def potencias(x):\n",
        "  return (x**1, x**2, x**3)\n",
        "\n",
        "# Aplicamos la funcion\n",
        "rdd_potencias = rdd_numeros.map(potencias)\n",
        "\n",
        "# Imprimimos \n",
        "for elemento in rdd_potencias.take(5):\n",
        "  print(elemento)"
      ],
      "execution_count": 9,
      "outputs": [
        {
          "output_type": "stream",
          "text": [
            "(9, 81, 729)\n",
            "(8, 64, 512)\n",
            "(2, 4, 8)\n",
            "(2, 4, 8)\n",
            "(2, 4, 8)\n"
          ],
          "name": "stdout"
        }
      ]
    },
    {
      "cell_type": "markdown",
      "metadata": {
        "id": "gQLtCKbXTtWB"
      },
      "source": [
        "### 2.2.3 `reduceByKey`\n",
        "\n",
        "Habiendo transformado nuestros datos en pares `(llave, etiqueta)` podemos aplicar una función de *Reduce*, para saber cuantas veces aparece cada numero solo debemos sumar los valores para cada llave. Esto lo logramos de la siguiente manera"
      ]
    },
    {
      "cell_type": "code",
      "metadata": {
        "colab": {
          "base_uri": "https://localhost:8080/",
          "height": 279
        },
        "id": "rv5YSFZZTsX0",
        "outputId": "02d64462-5b4c-4c39-919c-b5508f542a39"
      },
      "source": [
        "# Calculamos la suma para cada llave\n",
        "rdd_histograma = rdd_conteo.reduceByKey(lambda a, b: a + b)\n",
        "\n",
        "# Imprimimos el histograma\n",
        "\n",
        "histograma = rdd_histograma.collect()\n",
        "\n",
        "numeros = [ numero for (numero, _) in histograma ]\n",
        "frecuencias = [ frecuencia for (_, frecuencia) in histograma ]\n",
        "plt.bar(numeros, frecuencias)\n",
        "plt.xlabel('Numero')\n",
        "plt.ylabel('Frecuencia')\n",
        "plt.show()"
      ],
      "execution_count": 10,
      "outputs": [
        {
          "output_type": "display_data",
          "data": {
            "image/png": "[encoded data removed]",
            "text/plain": [
              "<Figure size 432x288 with 1 Axes>"
            ]
          },
          "metadata": {
            "tags": [],
            "needs_background": "light"
          }
        }
      ]
    },
    {
      "cell_type": "markdown",
      "metadata": {
        "id": "ExQWJb9SWZ6Q"
      },
      "source": [
        "### 2.2.4 `flatMap`\n",
        "\n",
        "Supongamos ahora que tenemos un texto separado por renglones de la siguiente manera"
      ]
    },
    {
      "cell_type": "code",
      "metadata": {
        "id": "QnPWSBKXTsbB"
      },
      "source": [
        "texto = ['esto se supone que es un parrafo del texto', 'este es el segundo parrafo del texto', 'agreguemos otro parrafo']"
      ],
      "execution_count": 11,
      "outputs": []
    },
    {
      "cell_type": "markdown",
      "metadata": {
        "id": "Rk6k_f_paBKd"
      },
      "source": [
        "Carguemos este texto a un RDD"
      ]
    },
    {
      "cell_type": "code",
      "metadata": {
        "colab": {
          "base_uri": "https://localhost:8080/"
        },
        "id": "R881ffsJTsil",
        "outputId": "5483a01d-8c9c-4b0e-eec4-5574b628e918"
      },
      "source": [
        "rdd_texto = spark.sparkContext.parallelize(texto)\n",
        "\n",
        "for parrafo in rdd_texto.collect():\n",
        "  print(parrafo)"
      ],
      "execution_count": 12,
      "outputs": [
        {
          "output_type": "stream",
          "text": [
            "esto se supone que es un parrafo del texto\n",
            "este es el segundo parrafo del texto\n",
            "agreguemos otro parrafo\n"
          ],
          "name": "stdout"
        }
      ]
    },
    {
      "cell_type": "markdown",
      "metadata": {
        "id": "vcXQok2oaVRS"
      },
      "source": [
        "Pensemos que queremos contar cuantas veces aparece cada palabra en todo el texto. Una forma de hacerlo es creando pares `(palabra, 1)` (parecido al ejemplo pasado), sin embargo los elementos del RDD deberían ser las palabras no los párrafos. \n",
        "\n",
        "\n",
        "Para esto existe la función `flatMap`, nos ayuda a *aplanar* los elementos del RDD. Veamos como funciona"
      ]
    },
    {
      "cell_type": "code",
      "metadata": {
        "colab": {
          "base_uri": "https://localhost:8080/"
        },
        "id": "Z-pKW9niTskv",
        "outputId": "e8488121-560d-48f8-ec5d-d04bf8b0d941"
      },
      "source": [
        "rdd_palabras = rdd_texto.flatMap(lambda parrafo: parrafo.split(' '))\n",
        "\n",
        "for palabra in rdd_palabras.take(10):\n",
        "  print(palabra)"
      ],
      "execution_count": 13,
      "outputs": [
        {
          "output_type": "stream",
          "text": [
            "esto\n",
            "se\n",
            "supone\n",
            "que\n",
            "es\n",
            "un\n",
            "parrafo\n",
            "del\n",
            "texto\n",
            "este\n"
          ],
          "name": "stdout"
        }
      ]
    },
    {
      "cell_type": "markdown",
      "metadata": {
        "id": "iYWzi67mfmxr"
      },
      "source": [
        "Hagamos el conteo de palabras"
      ]
    },
    {
      "cell_type": "code",
      "metadata": {
        "colab": {
          "base_uri": "https://localhost:8080/"
        },
        "id": "RsgpqO6ATsnD",
        "outputId": "a9035752-86f8-4e49-83a4-c14ee9b014b2"
      },
      "source": [
        "histograma_palabras = rdd_palabras.map(lambda palabra: (palabra, 1)) \\\n",
        "                                  .reduceByKey(lambda a, b: a + b) \\\n",
        "                                  .sortBy(lambda x: x[1], ascending = False) \\\n",
        "                                  .collect()\n",
        "\n",
        "\n",
        "print (\"{:<10} {:<10}\".format('PALABRA', 'FRECUENCIA'))\n",
        "\n",
        "for palabra, frecuencia in histograma_palabras:\n",
        "  print (\"{:<10} {:<10}\".format(palabra, frecuencia))"
      ],
      "execution_count": 14,
      "outputs": [
        {
          "output_type": "stream",
          "text": [
            "PALABRA    FRECUENCIA\n",
            "parrafo    3         \n",
            "del        2         \n",
            "es         2         \n",
            "texto      2         \n",
            "esto       1         \n",
            "supone     1         \n",
            "que        1         \n",
            "este       1         \n",
            "el         1         \n",
            "segundo    1         \n",
            "se         1         \n",
            "un         1         \n",
            "agreguemos 1         \n",
            "otro       1         \n"
          ],
          "name": "stdout"
        }
      ]
    },
    {
      "cell_type": "markdown",
      "metadata": {
        "id": "P6lFz10IoVcq"
      },
      "source": [
        "En este ejemplo podemos separar la parte de *Map* y *Reduce* de la siguiente forma"
      ]
    },
    {
      "cell_type": "code",
      "metadata": {
        "colab": {
          "base_uri": "https://localhost:8080/"
        },
        "id": "IHc7Zgywoc_d",
        "outputId": "09b119d9-b693-41bb-93cc-805f760139bc"
      },
      "source": [
        "# Map\n",
        "rdd_par_palabras = rdd_texto.flatMap(lambda parrafo: parrafo.split(' ')) \\\n",
        "                            .map(lambda palabra: (palabra, 1))\n",
        "\n",
        "print('Resultado del Map')\n",
        "for par in rdd_par_palabras.take(5):\n",
        "  print(par)\n",
        "\n",
        "# Reduce\n",
        "rdd_histograma_palabras = rdd_par_palabras.reduceByKey(lambda a, b: a + b) \\\n",
        "                                      .sortBy(lambda x: x[1], ascending = False)\n",
        "\n",
        "print('Resultado del Reduce')\n",
        "for par in rdd_histograma_palabras.take(5):\n",
        "  print(par)                                  "
      ],
      "execution_count": 15,
      "outputs": [
        {
          "output_type": "stream",
          "text": [
            "Resultado del Map\n",
            "('esto', 1)\n",
            "('se', 1)\n",
            "('supone', 1)\n",
            "('que', 1)\n",
            "('es', 1)\n",
            "Resultado del Reduce\n",
            "('parrafo', 3)\n",
            "('del', 2)\n",
            "('es', 2)\n",
            "('texto', 2)\n",
            "('esto', 1)\n"
          ],
          "name": "stdout"
        }
      ]
    },
    {
      "cell_type": "markdown",
      "metadata": {
        "id": "FKdxbC-sh_Ht"
      },
      "source": [
        "### 2.2.5 `mapValues`\n",
        "\n",
        "\n",
        "Otra función que puede resultar útil al momento de crear funciones Map es la de `mapValues`. Imaginemos que ahora tenemos tres textos diferentes"
      ]
    },
    {
      "cell_type": "code",
      "metadata": {
        "colab": {
          "base_uri": "https://localhost:8080/"
        },
        "id": "H8jozwfxTspp",
        "outputId": "8ee8c462-5ac5-4ce2-efc1-10c456e9cc91"
      },
      "source": [
        "# Definicion de los texto\n",
        "texto_1 = ['esto es un parrafo', 'otro_parrafo']\n",
        "texto_2 = ['este texto solo tiene un parrafo']\n",
        "texto_3 = ['parrafo 1', 'parrafo 2', 'parrafo 3']\n",
        "\n",
        "textos = [('texto_1', texto_1), ('texto_2', texto_2), ('texto_3', texto_3)]\n",
        "\n",
        "# Creamos un RDD con los textos\n",
        "rdd_textos = spark.sparkContext.parallelize(textos)\n",
        "\n",
        "for texto in rdd_textos.take(1):\n",
        "  print(texto)"
      ],
      "execution_count": 16,
      "outputs": [
        {
          "output_type": "stream",
          "text": [
            "('texto_1', ['esto es un parrafo', 'otro_parrafo'])\n"
          ],
          "name": "stdout"
        }
      ]
    },
    {
      "cell_type": "markdown",
      "metadata": {
        "id": "B_f-B1g_kmMs"
      },
      "source": [
        "Notemos que este RDD ya está formateado en pares `(texto_id, texto)`. Si quisiéramos saber cuantos párrafos tiene cada texto deberíamos encontrar una forma de calcular `len(texto)` para cada par sin alterar la llave. Podemos hacer esto usando la función `mapValues`, que dado un par `(llave, valor)` aplica una transformación solo al valor"
      ]
    },
    {
      "cell_type": "code",
      "metadata": {
        "colab": {
          "base_uri": "https://localhost:8080/"
        },
        "id": "j4lU1pnfTssF",
        "outputId": "260ff488-f36d-4729-bed9-ee9f55d3fd0a"
      },
      "source": [
        "rdd_num_parrafos = rdd_textos.mapValues(lambda valor: len(valor))\n",
        "\n",
        "print (\"{:<10} {:<10}\".format('TEXTO', 'NUM_PARRAFOS'))\n",
        "\n",
        "for texto, num_parrafos in rdd_num_parrafos.collect():\n",
        "  print (\"{:<10} {:<10}\".format(texto, num_parrafos))"
      ],
      "execution_count": 17,
      "outputs": [
        {
          "output_type": "stream",
          "text": [
            "TEXTO      NUM_PARRAFOS\n",
            "texto_1    2         \n",
            "texto_2    1         \n",
            "texto_3    3         \n"
          ],
          "name": "stdout"
        }
      ]
    },
    {
      "cell_type": "markdown",
      "metadata": {
        "id": "d4qPo_Ddp-xQ"
      },
      "source": [
        "En esta sección hemos revisado algunas de las funciones más importantes para la creación de funciones *Map* y *Reduce*, sin embargo, las hemos aplicado a datos bastante sintéticos. Hagamos un ejemplo con datos más reales.\n",
        "\n",
        "\n",
        "## 2.3 Caso de uso\n",
        "\n",
        "\n",
        "\n",
        "\n",
        "### 2.3.1 Datos\n",
        "\n",
        "\n",
        "En nuestro caso de uso emplearemos una base de datos que contiene las letras del top 10 de canciones en México según spotify (esto es para el día 4 de marzo de 2021). Por simplicidad se han omitido las canciones que estén en ingles.\n",
        "\n",
        "\n",
        "La base de datos cuenta con los siguientes campos **canción**, **artista** y **letra** separados por el caracter '*'. Carguemos los datos"
      ]
    },
    {
      "cell_type": "code",
      "metadata": {
        "colab": {
          "base_uri": "https://localhost:8080/"
        },
        "id": "aV7aBYKDpxKG",
        "outputId": "d6a398bd-ba77-478d-fb9c-feabde3334dd"
      },
      "source": [
        "!wget -q https://raw.githubusercontent.com/gibranfp/CursoDatosMasivosI/main/datos/top_10_mexico.csv\n",
        "rdd_letras = spark.sparkContext.textFile('top_10_mexico.csv').map(lambda x: x.split('*'))\n",
        "\n",
        "for cancion in rdd_letras.take(1):\n",
        "  print(cancion)"
      ],
      "execution_count": 18,
      "outputs": [
        {
          "output_type": "stream",
          "text": [
            "['Bad Bunny, Jhay Cortez', 'DÁKITI', \"Baby, ya yo me enteré, se nota cuando me ve' Ahí donde no has llegao' sabes que yo te llevaré Y dime qué quieres beber, es que tú eres mi bebé ¿Y de nosotros quién va a hablar? Si no nos dejamos ver Y a veces es Dolce, a veces Bulgari Cuando te lo quito después de los parties Las copas de vino, las libras de mari Tú estás bien suelta, yo de safari Tú mueve' el culo fenomenal Pa' yo devorarte como animal Si no te has vení'o, yo te vo' a esperar En mi cama y lo vo' a celebrar Baby, a ti no me opongo Y siempre te lo pongo Y si tú me tiras, vamo' a nadar en lo hondo Si es por mí te lo pongo De septiembre hasta agosto A mí sin cojone' lo que digan tus amigas Ya yo me enteré, se nota cuando me ve' Ahí donde no has llegao' sabes que yo te llevaré Y dime qué quieres beber, es que tú eres mi bebé ¿Y de nosotros quién va a hablar? Si no nos dejamos ver (¿me sigues?) Mami, me tienes juqueao', sí Si fueras la Uru, me tuvieses parqueao' Dando vueltas por Condado, contigo siempre arrebatao' Tú no eres mi señora, pero Toma cinco mil, gástalo en Sephora Louis Vuitton, ya no compra en Pandora Como piercing a los hombres perfora, eh-eh-eh Hace tiempo le rompieron el cora (el cora) Estudiosa, puesta pa' ser doctora (doctora) Pero (pero), le gustan los títeres wheeleando motoras (motoras) Yo estoy pa' ti las veinticuatro hora' Baby, a ti no me opongo Y siempre te lo pongo (-pre te lo pongo) Y si tú me tiras, vamo' a nadar en lo hondo (nadar en lo hondo) Si es por mí te lo pongo De septiembre hasta agosto Y a mí sin cojone' lo que digan tus amigas Ya yo me enteré, se nota cuando me ve' Ahí donde no has llegao' sabes que yo te llevaré Y dime qué quieres beber, es que tú eres mi bebé ¿Y de nosotros quién va a hablar? Si no nos dejamos ver Y a veces es Dolce, a veces Bulgari Cuando te lo quito después de los parties Las copas de vino, las libras de mari Tú estás bien suelta, yo de safari Tú mueve' el culo fenomenal Pa' yo devorarte como animal Si no te has vení'o, yo te vo' a esperar En mi cama y lo vo' a celebrar\"]\n"
          ],
          "name": "stdout"
        }
      ]
    },
    {
      "cell_type": "markdown",
      "metadata": {
        "id": "bBpVh-ZKAA4R"
      },
      "source": [
        "### 2.3.2 Limpieza de datos\n",
        "\n",
        "\n",
        "Notemos que las letras de canciones, como el texto en general, deben ser preprocesados para poder analizados de una forma más eficiente. En nuestro caso nos enfocaremos en los siguientes puntos:\n",
        "\n",
        "\n",
        "* Transformar todo el texto a minúsculas.\n",
        "* Eliminar signos de puntuación.\n",
        "* Eliminar las *palabras vacías*, que son palabras que aportan poco contexto al problema.\n",
        "\n",
        "\n",
        "\n",
        "\n",
        "Empecemos transformando las letras a minúsculas"
      ]
    },
    {
      "cell_type": "code",
      "metadata": {
        "colab": {
          "base_uri": "https://localhost:8080/"
        },
        "id": "pFuzc-YVTsu8",
        "outputId": "1ea05bdd-3d35-4041-98cf-2a96b2d5eeb5"
      },
      "source": [
        "rdd_letras = rdd_letras.map(lambda x: (x[0], x[1], x[2].lower()))\n",
        "\n",
        "for letra in rdd_letras.take(1):\n",
        "  print(letra[2])"
      ],
      "execution_count": 19,
      "outputs": [
        {
          "output_type": "stream",
          "text": [
            "baby, ya yo me enteré, se nota cuando me ve' ahí donde no has llegao' sabes que yo te llevaré y dime qué quieres beber, es que tú eres mi bebé ¿y de nosotros quién va a hablar? si no nos dejamos ver y a veces es dolce, a veces bulgari cuando te lo quito después de los parties las copas de vino, las libras de mari tú estás bien suelta, yo de safari tú mueve' el culo fenomenal pa' yo devorarte como animal si no te has vení'o, yo te vo' a esperar en mi cama y lo vo' a celebrar baby, a ti no me opongo y siempre te lo pongo y si tú me tiras, vamo' a nadar en lo hondo si es por mí te lo pongo de septiembre hasta agosto a mí sin cojone' lo que digan tus amigas ya yo me enteré, se nota cuando me ve' ahí donde no has llegao' sabes que yo te llevaré y dime qué quieres beber, es que tú eres mi bebé ¿y de nosotros quién va a hablar? si no nos dejamos ver (¿me sigues?) mami, me tienes juqueao', sí si fueras la uru, me tuvieses parqueao' dando vueltas por condado, contigo siempre arrebatao' tú no eres mi señora, pero toma cinco mil, gástalo en sephora louis vuitton, ya no compra en pandora como piercing a los hombres perfora, eh-eh-eh hace tiempo le rompieron el cora (el cora) estudiosa, puesta pa' ser doctora (doctora) pero (pero), le gustan los títeres wheeleando motoras (motoras) yo estoy pa' ti las veinticuatro hora' baby, a ti no me opongo y siempre te lo pongo (-pre te lo pongo) y si tú me tiras, vamo' a nadar en lo hondo (nadar en lo hondo) si es por mí te lo pongo de septiembre hasta agosto y a mí sin cojone' lo que digan tus amigas ya yo me enteré, se nota cuando me ve' ahí donde no has llegao' sabes que yo te llevaré y dime qué quieres beber, es que tú eres mi bebé ¿y de nosotros quién va a hablar? si no nos dejamos ver y a veces es dolce, a veces bulgari cuando te lo quito después de los parties las copas de vino, las libras de mari tú estás bien suelta, yo de safari tú mueve' el culo fenomenal pa' yo devorarte como animal si no te has vení'o, yo te vo' a esperar en mi cama y lo vo' a celebrar\n"
          ],
          "name": "stdout"
        }
      ]
    },
    {
      "cell_type": "markdown",
      "metadata": {
        "id": "UmPew3p2Ntrl"
      },
      "source": [
        "Para poder tratar con el texto a nivel de palabras debemos hacer lo siguiente"
      ]
    },
    {
      "cell_type": "code",
      "metadata": {
        "colab": {
          "base_uri": "https://localhost:8080/"
        },
        "id": "OrUmB62MTcWW",
        "outputId": "798842aa-0eec-4615-c588-26191c8a1a91"
      },
      "source": [
        "rdd_letras = rdd_letras.map(lambda x: (x[0], x[1], x[2].split(' ')))\n",
        "\n",
        "for letra in rdd_letras.take(1):\n",
        "  l = letra[2]\n",
        "  print(letra[2])"
      ],
      "execution_count": 20,
      "outputs": [
        {
          "output_type": "stream",
          "text": [
            "['baby,', 'ya', 'yo', 'me', 'enteré,', 'se', 'nota', 'cuando', 'me', \"ve'\", 'ahí', 'donde', 'no', 'has', \"llegao'\", 'sabes', 'que', 'yo', 'te', 'llevaré', 'y', 'dime', 'qué', 'quieres', 'beber,', 'es', 'que', 'tú', 'eres', 'mi', 'bebé', '¿y', 'de', 'nosotros', 'quién', 'va', 'a', 'hablar?', 'si', 'no', 'nos', 'dejamos', 'ver', 'y', 'a', 'veces', 'es', 'dolce,', 'a', 'veces', 'bulgari', 'cuando', 'te', 'lo', 'quito', 'después', 'de', 'los', 'parties', 'las', 'copas', 'de', 'vino,', 'las', 'libras', 'de', 'mari', 'tú', 'estás', 'bien', 'suelta,', 'yo', 'de', 'safari', 'tú', \"mueve'\", 'el', 'culo', 'fenomenal', \"pa'\", 'yo', 'devorarte', 'como', 'animal', 'si', 'no', 'te', 'has', \"vení'o,\", 'yo', 'te', \"vo'\", 'a', 'esperar', 'en', 'mi', 'cama', 'y', 'lo', \"vo'\", 'a', 'celebrar', 'baby,', 'a', 'ti', 'no', 'me', 'opongo', 'y', 'siempre', 'te', 'lo', 'pongo', 'y', 'si', 'tú', 'me', 'tiras,', \"vamo'\", 'a', 'nadar', 'en', 'lo', 'hondo', 'si', 'es', 'por', 'mí', 'te', 'lo', 'pongo', 'de', 'septiembre', 'hasta', 'agosto', 'a', 'mí', 'sin', \"cojone'\", 'lo', 'que', 'digan', 'tus', 'amigas', 'ya', 'yo', 'me', 'enteré,', 'se', 'nota', 'cuando', 'me', \"ve'\", 'ahí', 'donde', 'no', 'has', \"llegao'\", 'sabes', 'que', 'yo', 'te', 'llevaré', 'y', 'dime', 'qué', 'quieres', 'beber,', 'es', 'que', 'tú', 'eres', 'mi', 'bebé', '¿y', 'de', 'nosotros', 'quién', 'va', 'a', 'hablar?', 'si', 'no', 'nos', 'dejamos', 'ver', '(¿me', 'sigues?)', 'mami,', 'me', 'tienes', \"juqueao',\", 'sí', 'si', 'fueras', 'la', 'uru,', 'me', 'tuvieses', \"parqueao'\", 'dando', 'vueltas', 'por', 'condado,', 'contigo', 'siempre', \"arrebatao'\", 'tú', 'no', 'eres', 'mi', 'señora,', 'pero', 'toma', 'cinco', 'mil,', 'gástalo', 'en', 'sephora', 'louis', 'vuitton,', 'ya', 'no', 'compra', 'en', 'pandora', 'como', 'piercing', 'a', 'los', 'hombres', 'perfora,', 'eh-eh-eh', 'hace', 'tiempo', 'le', 'rompieron', 'el', 'cora', '(el', 'cora)', 'estudiosa,', 'puesta', \"pa'\", 'ser', 'doctora', '(doctora)', 'pero', '(pero),', 'le', 'gustan', 'los', 'títeres', 'wheeleando', 'motoras', '(motoras)', 'yo', 'estoy', \"pa'\", 'ti', 'las', 'veinticuatro', \"hora'\", 'baby,', 'a', 'ti', 'no', 'me', 'opongo', 'y', 'siempre', 'te', 'lo', 'pongo', '(-pre', 'te', 'lo', 'pongo)', 'y', 'si', 'tú', 'me', 'tiras,', \"vamo'\", 'a', 'nadar', 'en', 'lo', 'hondo', '(nadar', 'en', 'lo', 'hondo)', 'si', 'es', 'por', 'mí', 'te', 'lo', 'pongo', 'de', 'septiembre', 'hasta', 'agosto', 'y', 'a', 'mí', 'sin', \"cojone'\", 'lo', 'que', 'digan', 'tus', 'amigas', 'ya', 'yo', 'me', 'enteré,', 'se', 'nota', 'cuando', 'me', \"ve'\", 'ahí', 'donde', 'no', 'has', \"llegao'\", 'sabes', 'que', 'yo', 'te', 'llevaré', 'y', 'dime', 'qué', 'quieres', 'beber,', 'es', 'que', 'tú', 'eres', 'mi', 'bebé', '¿y', 'de', 'nosotros', 'quién', 'va', 'a', 'hablar?', 'si', 'no', 'nos', 'dejamos', 'ver', 'y', 'a', 'veces', 'es', 'dolce,', 'a', 'veces', 'bulgari', 'cuando', 'te', 'lo', 'quito', 'después', 'de', 'los', 'parties', 'las', 'copas', 'de', 'vino,', 'las', 'libras', 'de', 'mari', 'tú', 'estás', 'bien', 'suelta,', 'yo', 'de', 'safari', 'tú', \"mueve'\", 'el', 'culo', 'fenomenal', \"pa'\", 'yo', 'devorarte', 'como', 'animal', 'si', 'no', 'te', 'has', \"vení'o,\", 'yo', 'te', \"vo'\", 'a', 'esperar', 'en', 'mi', 'cama', 'y', 'lo', \"vo'\", 'a', 'celebrar']\n"
          ],
          "name": "stdout"
        }
      ]
    },
    {
      "cell_type": "markdown",
      "metadata": {
        "id": "6Wrmqj-TT-lk"
      },
      "source": [
        "Ahora eliminemos los signos de puntuación"
      ]
    },
    {
      "cell_type": "code",
      "metadata": {
        "colab": {
          "base_uri": "https://localhost:8080/"
        },
        "id": "XDJ5MUCPSqxq",
        "outputId": "b51fc5eb-88f2-4dbd-bb21-52da393fd578"
      },
      "source": [
        "# Agregamos los simbolos usado en espanol\n",
        "signos_puntuacion = list(string.punctuation) + ['¡', '¿']\n",
        "\n",
        "def elimina_puntuacion(letra):\n",
        "  letra_limpia = [''.join(caracter for caracter in palabra if caracter not in signos_puntuacion) for palabra in letra] \n",
        "  return letra_limpia\n",
        "\n",
        "rdd_letras = rdd_letras.map(lambda x: (x[0], x[1], elimina_puntuacion(x[2])))\n",
        "\n",
        "for letra in rdd_letras.take(1):\n",
        "  print(letra[2])"
      ],
      "execution_count": 21,
      "outputs": [
        {
          "output_type": "stream",
          "text": [
            "['baby', 'ya', 'yo', 'me', 'enteré', 'se', 'nota', 'cuando', 'me', 've', 'ahí', 'donde', 'no', 'has', 'llegao', 'sabes', 'que', 'yo', 'te', 'llevaré', 'y', 'dime', 'qué', 'quieres', 'beber', 'es', 'que', 'tú', 'eres', 'mi', 'bebé', 'y', 'de', 'nosotros', 'quién', 'va', 'a', 'hablar', 'si', 'no', 'nos', 'dejamos', 'ver', 'y', 'a', 'veces', 'es', 'dolce', 'a', 'veces', 'bulgari', 'cuando', 'te', 'lo', 'quito', 'después', 'de', 'los', 'parties', 'las', 'copas', 'de', 'vino', 'las', 'libras', 'de', 'mari', 'tú', 'estás', 'bien', 'suelta', 'yo', 'de', 'safari', 'tú', 'mueve', 'el', 'culo', 'fenomenal', 'pa', 'yo', 'devorarte', 'como', 'animal', 'si', 'no', 'te', 'has', 'venío', 'yo', 'te', 'vo', 'a', 'esperar', 'en', 'mi', 'cama', 'y', 'lo', 'vo', 'a', 'celebrar', 'baby', 'a', 'ti', 'no', 'me', 'opongo', 'y', 'siempre', 'te', 'lo', 'pongo', 'y', 'si', 'tú', 'me', 'tiras', 'vamo', 'a', 'nadar', 'en', 'lo', 'hondo', 'si', 'es', 'por', 'mí', 'te', 'lo', 'pongo', 'de', 'septiembre', 'hasta', 'agosto', 'a', 'mí', 'sin', 'cojone', 'lo', 'que', 'digan', 'tus', 'amigas', 'ya', 'yo', 'me', 'enteré', 'se', 'nota', 'cuando', 'me', 've', 'ahí', 'donde', 'no', 'has', 'llegao', 'sabes', 'que', 'yo', 'te', 'llevaré', 'y', 'dime', 'qué', 'quieres', 'beber', 'es', 'que', 'tú', 'eres', 'mi', 'bebé', 'y', 'de', 'nosotros', 'quién', 'va', 'a', 'hablar', 'si', 'no', 'nos', 'dejamos', 'ver', 'me', 'sigues', 'mami', 'me', 'tienes', 'juqueao', 'sí', 'si', 'fueras', 'la', 'uru', 'me', 'tuvieses', 'parqueao', 'dando', 'vueltas', 'por', 'condado', 'contigo', 'siempre', 'arrebatao', 'tú', 'no', 'eres', 'mi', 'señora', 'pero', 'toma', 'cinco', 'mil', 'gástalo', 'en', 'sephora', 'louis', 'vuitton', 'ya', 'no', 'compra', 'en', 'pandora', 'como', 'piercing', 'a', 'los', 'hombres', 'perfora', 'eheheh', 'hace', 'tiempo', 'le', 'rompieron', 'el', 'cora', 'el', 'cora', 'estudiosa', 'puesta', 'pa', 'ser', 'doctora', 'doctora', 'pero', 'pero', 'le', 'gustan', 'los', 'títeres', 'wheeleando', 'motoras', 'motoras', 'yo', 'estoy', 'pa', 'ti', 'las', 'veinticuatro', 'hora', 'baby', 'a', 'ti', 'no', 'me', 'opongo', 'y', 'siempre', 'te', 'lo', 'pongo', 'pre', 'te', 'lo', 'pongo', 'y', 'si', 'tú', 'me', 'tiras', 'vamo', 'a', 'nadar', 'en', 'lo', 'hondo', 'nadar', 'en', 'lo', 'hondo', 'si', 'es', 'por', 'mí', 'te', 'lo', 'pongo', 'de', 'septiembre', 'hasta', 'agosto', 'y', 'a', 'mí', 'sin', 'cojone', 'lo', 'que', 'digan', 'tus', 'amigas', 'ya', 'yo', 'me', 'enteré', 'se', 'nota', 'cuando', 'me', 've', 'ahí', 'donde', 'no', 'has', 'llegao', 'sabes', 'que', 'yo', 'te', 'llevaré', 'y', 'dime', 'qué', 'quieres', 'beber', 'es', 'que', 'tú', 'eres', 'mi', 'bebé', 'y', 'de', 'nosotros', 'quién', 'va', 'a', 'hablar', 'si', 'no', 'nos', 'dejamos', 'ver', 'y', 'a', 'veces', 'es', 'dolce', 'a', 'veces', 'bulgari', 'cuando', 'te', 'lo', 'quito', 'después', 'de', 'los', 'parties', 'las', 'copas', 'de', 'vino', 'las', 'libras', 'de', 'mari', 'tú', 'estás', 'bien', 'suelta', 'yo', 'de', 'safari', 'tú', 'mueve', 'el', 'culo', 'fenomenal', 'pa', 'yo', 'devorarte', 'como', 'animal', 'si', 'no', 'te', 'has', 'venío', 'yo', 'te', 'vo', 'a', 'esperar', 'en', 'mi', 'cama', 'y', 'lo', 'vo', 'a', 'celebrar']\n"
          ],
          "name": "stdout"
        }
      ]
    },
    {
      "cell_type": "markdown",
      "metadata": {
        "id": "1nih_d-HabTt"
      },
      "source": [
        "Eliminamos las *palabras vacías*"
      ]
    },
    {
      "cell_type": "code",
      "metadata": {
        "colab": {
          "base_uri": "https://localhost:8080/"
        },
        "id": "iIw7jYPgaaic",
        "outputId": "2a4fd69a-1459-44f4-9f80-6aa9caa38563"
      },
      "source": [
        "palabras_vacias = nltk.corpus.stopwords.words('spanish') + ['']\n",
        "\n",
        "def quita_palabras_vacias(letra):\n",
        "  letra_limpia = [palabra for palabra in letra if palabra not in palabras_vacias]\n",
        "  return letra_limpia\n",
        "\n",
        "rdd_letras = rdd_letras.map(lambda x: (x[0], x[1], quita_palabras_vacias(x[2])))\n",
        "\n",
        "for letra in rdd_letras.take(1):\n",
        "  print(letra[2])"
      ],
      "execution_count": 22,
      "outputs": [
        {
          "output_type": "stream",
          "text": [
            "['baby', 'enteré', 'nota', 've', 'ahí', 'llegao', 'sabes', 'llevaré', 'dime', 'quieres', 'beber', 'bebé', 'quién', 'va', 'hablar', 'si', 'dejamos', 'ver', 'veces', 'dolce', 'veces', 'bulgari', 'quito', 'después', 'parties', 'copas', 'vino', 'libras', 'mari', 'bien', 'suelta', 'safari', 'mueve', 'culo', 'fenomenal', 'pa', 'devorarte', 'animal', 'si', 'venío', 'vo', 'esperar', 'cama', 'vo', 'celebrar', 'baby', 'opongo', 'siempre', 'pongo', 'si', 'tiras', 'vamo', 'nadar', 'hondo', 'si', 'pongo', 'septiembre', 'agosto', 'cojone', 'digan', 'amigas', 'enteré', 'nota', 've', 'ahí', 'llegao', 'sabes', 'llevaré', 'dime', 'quieres', 'beber', 'bebé', 'quién', 'va', 'hablar', 'si', 'dejamos', 'ver', 'sigues', 'mami', 'juqueao', 'si', 'uru', 'parqueao', 'dando', 'vueltas', 'condado', 'contigo', 'siempre', 'arrebatao', 'señora', 'toma', 'cinco', 'mil', 'gástalo', 'sephora', 'louis', 'vuitton', 'compra', 'pandora', 'piercing', 'hombres', 'perfora', 'eheheh', 'hace', 'tiempo', 'rompieron', 'cora', 'cora', 'estudiosa', 'puesta', 'pa', 'ser', 'doctora', 'doctora', 'gustan', 'títeres', 'wheeleando', 'motoras', 'motoras', 'pa', 'veinticuatro', 'hora', 'baby', 'opongo', 'siempre', 'pongo', 'pre', 'pongo', 'si', 'tiras', 'vamo', 'nadar', 'hondo', 'nadar', 'hondo', 'si', 'pongo', 'septiembre', 'agosto', 'cojone', 'digan', 'amigas', 'enteré', 'nota', 've', 'ahí', 'llegao', 'sabes', 'llevaré', 'dime', 'quieres', 'beber', 'bebé', 'quién', 'va', 'hablar', 'si', 'dejamos', 'ver', 'veces', 'dolce', 'veces', 'bulgari', 'quito', 'después', 'parties', 'copas', 'vino', 'libras', 'mari', 'bien', 'suelta', 'safari', 'mueve', 'culo', 'fenomenal', 'pa', 'devorarte', 'animal', 'si', 'venío', 'vo', 'esperar', 'cama', 'vo', 'celebrar']\n"
          ],
          "name": "stdout"
        }
      ]
    },
    {
      "cell_type": "markdown",
      "metadata": {
        "id": "qiIV9ZUFZNH3"
      },
      "source": [
        "### 2.3.3 Palabras más usadas\n",
        "\n",
        "\n",
        "Ya con los datos limpios podemos hacer algunos análisis. Veamos cuales son las palabras más empleadas en las letras de las canciones\n"
      ]
    },
    {
      "cell_type": "code",
      "metadata": {
        "colab": {
          "base_uri": "https://localhost:8080/"
        },
        "id": "ucj0yI_0ZNXq",
        "outputId": "065a72e8-c63f-4cf4-8cfc-ed0b3e704ccc"
      },
      "source": [
        "rdd_palabras_histograma = rdd_letras.map(lambda x: [(palabra, 1) for palabra in x[2]]) \\\n",
        "                         .flatMap(lambda x: x) \\\n",
        "                         .reduceByKey(lambda a, b: a + b) \\\n",
        "                         .sortBy(lambda x: x[1], ascending = False)\n",
        "\n",
        "print (\"{:<10} {:<10}\".format('PALABRA', 'FRECUENCIA'))                     \n",
        "\n",
        "for palabra, frecuencia in rdd_palabras_histograma.take(30):\n",
        "  print (\"{:<10} {:<10}\".format(palabra, frecuencia))"
      ],
      "execution_count": 23,
      "outputs": [
        {
          "output_type": "stream",
          "text": [
            "PALABRA    FRECUENCIA\n",
            "baila      60        \n",
            "si         52        \n",
            "pa         46        \n",
            "eh         46        \n",
            "baby       33        \n",
            "pumpum     20        \n",
            "ahora      19        \n",
            "ey         15        \n",
            "solo       15        \n",
            "prada      15        \n",
            "gucci      15        \n",
            "sigo       14        \n",
            "conmigo    14        \n",
            "yeah       14        \n",
            "oh         13        \n",
            "ver        12        \n",
            "noche      12        \n",
            "bien       11        \n",
            "encima     11        \n",
            "corazón    11        \n",
            "vez        11        \n",
            "tiempo     11        \n",
            "na         11        \n",
            "va         10        \n",
            "wuh        10        \n",
            "amor       10        \n",
            "pégate     10        \n",
            "ven        10        \n",
            "así        10        \n",
            "balenciaga 10        \n"
          ],
          "name": "stdout"
        }
      ]
    },
    {
      "cell_type": "markdown",
      "metadata": {
        "id": "w41G-2IZjMuZ"
      },
      "source": [
        "### 2.3.4 Análisis de sentimientos\n",
        "\n",
        "\n",
        "Usaremos la biblioteca `sentiment_analysis` para realizar el análisis de sentimiento de las letras de canciones. En la documentación menciona que se calcula la probabilidad de que el texto sea clasificado como positivo. Aunque se menciona que existe un rango entre 0 y 1 para los cuales el texto se considera neutro, dado que no se especifica dichos umbrales, en este caso solo clasificaremos las palabras entre positivas y negativas."
      ]
    },
    {
      "cell_type": "code",
      "metadata": {
        "colab": {
          "base_uri": "https://localhost:8080/",
          "height": 369
        },
        "id": "pESE4Qt1jMQK",
        "outputId": "20999beb-369b-48da-82e8-b342d7114427"
      },
      "source": [
        "sentiment = sentiment_analysis.SentimentAnalysisSpanish()\n",
        "\n",
        "def sentimiento(palabra):\n",
        "\n",
        "  prob = sentiment.sentiment(palabra)\n",
        "\n",
        "  if prob >= 0.5:\n",
        "    return 'positivo'\n",
        "  else:\n",
        "    return 'negativo'\n",
        "\n",
        "histograma_sentimientos = rdd_letras.flatMap(lambda x: x[2]) \\\n",
        "                                    .map(lambda x: (sentimiento(x), 1)) \\\n",
        "                                    .reduceByKey(lambda a, b: a + b) \\\n",
        "                                    .collect()\n",
        "\n",
        "sentimientos = [ sentimiento for (sentimiento, _) in histograma_sentimientos ]\n",
        "frecuencias = [ frecuencia for (_, frecuencia) in histograma_sentimientos ]\n",
        "plt.bar(sentimientos, frecuencias)\n",
        "plt.xlabel('Sentimientos')\n",
        "plt.ylabel('Numero de palabras')\n",
        "plt.show()"
      ],
      "execution_count": 24,
      "outputs": [
        {
          "output_type": "stream",
          "text": [
            "/usr/local/lib/python3.7/dist-packages/sklearn/base.py:318: UserWarning: Trying to unpickle estimator CountVectorizer from version 0.23.2 when using version 0.22.2.post1. This might lead to breaking code or invalid results. Use at your own risk.\n",
            "  UserWarning)\n",
            "/usr/local/lib/python3.7/dist-packages/sklearn/base.py:318: UserWarning: Trying to unpickle estimator MultinomialNB from version 0.23.2 when using version 0.22.2.post1. This might lead to breaking code or invalid results. Use at your own risk.\n",
            "  UserWarning)\n"
          ],
          "name": "stderr"
        },
        {
          "output_type": "display_data",
          "data": {
            "image/png": "[encoded data removed]",
            "text/plain": [
              "<Figure size 432x288 with 1 Axes>"
            ]
          },
          "metadata": {
            "tags": [],
            "needs_background": "light"
          }
        }
      ]
    },
    {
      "cell_type": "markdown",
      "metadata": {
        "id": "dNNg2VMLxhY0"
      },
      "source": [
        "## Ejercicio\n",
        "\n",
        "Encuentre en cuales canciones se encuentra cada palabra. Es decir, calcule un RDD cuyos elementos sean `(palabra, (cancion_1, cancion_3))`.\n",
        "\n",
        "\n",
        "*Hint: Investigue la función flatMapValues*"
      ]
    }
  ]
}